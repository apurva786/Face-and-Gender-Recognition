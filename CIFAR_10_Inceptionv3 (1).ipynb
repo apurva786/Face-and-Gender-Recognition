{
 "cells": [
  {
   "cell_type": "code",
   "execution_count": 0,
   "metadata": {
    "colab": {
     "base_uri": "https://localhost:8080/",
     "height": 125
    },
    "colab_type": "code",
    "id": "cLbLcVhMYDqL",
    "outputId": "7958c458-1a53-46d9-ae71-58732a34c1a5"
   },
   "outputs": [
    {
     "name": "stdout",
     "output_type": "stream",
     "text": [
      "Go to this URL in a browser: https://accounts.google.com/o/oauth2/auth?client_id=947318989803-6bn6qk8qdgf4n4g3pfee6491hc0brc4i.apps.googleusercontent.com&redirect_uri=urn%3Aietf%3Awg%3Aoauth%3A2.0%3Aoob&scope=email%20https%3A%2F%2Fwww.googleapis.com%2Fauth%2Fdocs.test%20https%3A%2F%2Fwww.googleapis.com%2Fauth%2Fdrive%20https%3A%2F%2Fwww.googleapis.com%2Fauth%2Fdrive.photos.readonly%20https%3A%2F%2Fwww.googleapis.com%2Fauth%2Fpeopleapi.readonly&response_type=code\n",
      "\n",
      "Enter your authorization code:\n",
      "··········\n",
      "Mounted at /content/drive/\n"
     ]
    }
   ],
   "source": [
    "from google.colab import drive\n",
    "drive.mount('/content/drive/')"
   ]
  },
  {
   "cell_type": "code",
   "execution_count": 0,
   "metadata": {
    "colab": {
     "base_uri": "https://localhost:8080/",
     "height": 35
    },
    "colab_type": "code",
    "id": "wiGZ42r1ZNSp",
    "outputId": "b5f592e3-8af3-49e8-f835-631ae86f3297"
   },
   "outputs": [
    {
     "data": {
      "text/plain": [
       "'/device:GPU:0'"
      ]
     },
     "execution_count": 1,
     "metadata": {
      "tags": []
     },
     "output_type": "execute_result"
    }
   ],
   "source": [
    "import tensorflow as tf\n",
    "device_name = tf.test.gpu_device_name()\n",
    "device_name"
   ]
  },
  {
   "cell_type": "code",
   "execution_count": 0,
   "metadata": {
    "colab": {
     "base_uri": "https://localhost:8080/",
     "height": 490
    },
    "colab_type": "code",
    "id": "eKJ7qtZUL3Eq",
    "outputId": "a1dcd6a7-c626-494c-a78c-6e29685415c2"
   },
   "outputs": [
    {
     "data": {
      "text/plain": [
       "[name: \"/device:CPU:0\"\n",
       " device_type: \"CPU\"\n",
       " memory_limit: 268435456\n",
       " locality {\n",
       " }\n",
       " incarnation: 3845320109088319270, name: \"/device:XLA_CPU:0\"\n",
       " device_type: \"XLA_CPU\"\n",
       " memory_limit: 17179869184\n",
       " locality {\n",
       " }\n",
       " incarnation: 1183380696739370854\n",
       " physical_device_desc: \"device: XLA_CPU device\", name: \"/device:XLA_GPU:0\"\n",
       " device_type: \"XLA_GPU\"\n",
       " memory_limit: 17179869184\n",
       " locality {\n",
       " }\n",
       " incarnation: 8916817056160387065\n",
       " physical_device_desc: \"device: XLA_GPU device\", name: \"/device:GPU:0\"\n",
       " device_type: \"GPU\"\n",
       " memory_limit: 10586990183\n",
       " locality {\n",
       "   bus_id: 1\n",
       "   links {\n",
       "   }\n",
       " }\n",
       " incarnation: 18352452805905246015\n",
       " physical_device_desc: \"device: 0, name: Tesla K80, pci bus id: 0000:00:04.0, compute capability: 3.7\"]"
      ]
     },
     "execution_count": 2,
     "metadata": {
      "tags": []
     },
     "output_type": "execute_result"
    }
   ],
   "source": [
    "from tensorflow.python.client import device_lib\n",
    "device_lib.list_local_devices()"
   ]
  },
  {
   "cell_type": "code",
   "execution_count": 0,
   "metadata": {
    "colab": {
     "base_uri": "https://localhost:8080/",
     "height": 35
    },
    "colab_type": "code",
    "id": "Q2yuJm5sqd0R",
    "outputId": "f1e68e2b-9b02-4daf-a84c-68d2061e66bc"
   },
   "outputs": [
    {
     "name": "stdout",
     "output_type": "stream",
     "text": [
      "ERROR: Not connected to a TPU runtime; please see the first cell in this notebook for instructions!\n"
     ]
    }
   ],
   "source": [
    "import os\n",
    "import pprint\n",
    "import tensorflow as tf\n",
    "\n",
    "if 'COLAB_TPU_ADDR' not in os.environ:\n",
    "  print('ERROR: Not connected to a TPU runtime; please see the first cell in this notebook for instructions!')\n",
    "else:\n",
    "  tpu_address = 'grpc://' + os.environ['COLAB_TPU_ADDR']\n",
    "  print ('TPU address is', tpu_address)\n",
    "\n",
    "  with tf.Session(tpu_address) as session:\n",
    "    devices = session.list_devices()\n",
    "    \n",
    "  print('TPU devices:')\n",
    "  pprint.pprint(devices)"
   ]
  },
  {
   "cell_type": "code",
   "execution_count": 0,
   "metadata": {
    "colab": {
     "base_uri": "https://localhost:8080/",
     "height": 33
    },
    "colab_type": "code",
    "id": "cxKPxFF4YhsC",
    "outputId": "7df735b8-3873-4e19-bd7d-fa1b5051f95a"
   },
   "outputs": [
    {
     "name": "stderr",
     "output_type": "stream",
     "text": [
      "Using TensorFlow backend.\n"
     ]
    }
   ],
   "source": [
    "import keras\n",
    "import tensorflow as tf\n",
    "import numpy as np\n",
    "from keras.datasets import mnist\n",
    "from keras.optimizers import SGD\n",
    "import matplotlib.pyplot as plt\n",
    "from keras.models import Sequential\n",
    "from keras.layers import Dense, Conv2D, Dropout, Flatten,MaxPooling2D,GaussianDropout,GlobalAveragePooling2D\n",
    "import cv2\n",
    "from keras.constraints import max_norm\n",
    "from  keras.models import load_model\n",
    "import pandas as pd\n",
    "import random\n",
    "import seaborn as sb\n",
    "from sklearn.neighbors import KNeighborsClassifier\n",
    "from sklearn.model_selection import train_test_split\n",
    "from sklearn.cluster import KMeans\n",
    "import os\n",
    "from sklearn.model_selection import StratifiedKFold\n",
    "from sklearn.model_selection import KFold\n",
    "from sklearn import metrics\n",
    "import matplotlib.ticker as ticker\n",
    "from sklearn import preprocessing\n",
    "from sklearn.metrics import confusion_matrix\n",
    "from sklearn.svm import SVC\n",
    "import pickle\n",
    "from sklearn.metrics import f1_score\n",
    "from sklearn.metrics import accuracy_score\n",
    "from keras.models import Model\n",
    "from keras.layers import Input, Dense,Flatten\n",
    "import warnings\n",
    "warnings.filterwarnings('ignore')\n",
    "\n",
    "# sift = cv2.xfeatures2d.SIFT_create()"
   ]
  },
  {
   "cell_type": "code",
   "execution_count": 0,
   "metadata": {
    "colab": {},
    "colab_type": "code",
    "id": "hsbxioJn0HeC"
   },
   "outputs": [],
   "source": [
    "!pip install -U -q PyDrive\n",
    "from pydrive.auth import GoogleAuth\n",
    "from pydrive.drive import GoogleDrive\n",
    "from google.colab import auth\n",
    "from oauth2client.client import GoogleCredentials\n",
    "\n",
    "# 1. Authenticate and create the PyDrive client.\n",
    "auth.authenticate_user()\n",
    "gauth = GoogleAuth()\n",
    "gauth.credentials = GoogleCredentials.get_application_default()\n",
    "drive = GoogleDrive(gauth)\n",
    "\n",
    "\n",
    "# 2. Load a file by ID and create local file.\n",
    "FGD = drive.CreateFile({'id':'11vhpxOAhX4uSD7yrt6k5p8EWtsuOspD5'}) # replace fileid with Id of file you want to access\n",
    "FGD.GetContentFile('data_batch_1') # now you can use export.csv \n",
    "data_batch_1 = pd.read_pickle('data_batch_1')\n",
    "\n",
    "FGD = drive.CreateFile({'id':'1ktCkgBj7YtufHrfDnXSU6kWCP_ENDlzG'}) # replace fileid with Id of file you want to access\n",
    "FGD.GetContentFile('data_batch_2') # now you can use export.csv \n",
    "data_batch_2 = pd.read_pickle('data_batch_2')\n",
    "\n",
    "FGD = drive.CreateFile({'id':'1IQLPggFNSVsgwAy_enX_PfPBioBzLPH4'}) # replace fileid with Id of file you want to access\n",
    "FGD.GetContentFile('data_batch_3') # now you can use export.csv \n",
    "data_batch_3 = pd.read_pickle('data_batch_3')\n",
    "\n",
    "FGD = drive.CreateFile({'id':'1z_NjggP_YQpczb6fgAhwNpgbU5V8rfIo'}) # replace fileid with Id of file you want to access\n",
    "FGD.GetContentFile('data_batch_4') # now you can use export.csv \n",
    "data_batch_4 = pd.read_pickle('data_batch_4')\n",
    "\n",
    "FGD = drive.CreateFile({'id':'1wMY7qXbZdbZWqaDT1ydHq1qJSf5gOmA7'}) # replace fileid with Id of file you want to access\n",
    "FGD.GetContentFile('data_batch_5') # now you can use export.csv \n",
    "data_batch_5 = pd.read_pickle('data_batch_5')\n",
    "\n",
    "FGD = drive.CreateFile({'id':'1HX2ESp1wV8MqMAFyUApfyexmulYVeci6'}) # replace fileid with Id of file you want to access\n",
    "FGD.GetContentFile('test_batch') # now you can use export.csv \n",
    "test_batch = pd.read_pickle('test_batch')\n"
   ]
  },
  {
   "cell_type": "code",
   "execution_count": 0,
   "metadata": {
    "colab": {
     "base_uri": "https://localhost:8080/",
     "height": 131
    },
    "colab_type": "code",
    "id": "nKt2Jmkbt_OK",
    "outputId": "75e9a4c6-73f4-4b4c-fa28-222c74a5b06a"
   },
   "outputs": [
    {
     "name": "stdout",
     "output_type": "stream",
     "text": [
      "(10000, 3072) data_batch_1\n",
      "(10000, 3072) data_batch_2\n",
      "(10000, 3072) data_batch_3\n",
      "(10000, 3072) data_batch_4\n",
      "(10000, 3072) data_batch_5\n",
      "(50000, 75, 75, 3)\n",
      "(50000,)\n"
     ]
    }
   ],
   "source": [
    "items = os.listdir('/content')\n",
    "\n",
    "cifardataset=[]  \n",
    "total_cifarlbl=[]\n",
    "cifar_dataloc=['data_batch_1','data_batch_2','data_batch_3','data_batch_4','data_batch_5']\n",
    "\n",
    "for loc in cifar_dataloc:\n",
    "    with open(loc, 'rb') as fo:\n",
    "            dict = pickle.load(fo,encoding='bytes')\n",
    "\n",
    "    total_cifarimg = (dict[b'data'].shape[0])\n",
    "    lbl = (dict[b'labels'])\n",
    "\n",
    "    print(dict[b'data'].shape,loc)\n",
    "        \n",
    "    count=0\n",
    "    for t in range(total_cifarimg):\n",
    "        l = (dict[b'data'][t])\n",
    "        count=0\n",
    "        cifarimg=np.ndarray(shape=(32,32,3), dtype=np.uint8)\n",
    "        img_R = l[0:1024].reshape((32, 32))\n",
    "        img_G = l[1024:2048].reshape((32, 32))\n",
    "        img_B = l[2048:3072].reshape((32, 32))\n",
    "        cifarimg = np.dstack((img_R, img_G, img_B))\n",
    "#         cifarimg = np.reshape(l,(32,32,3))\n",
    "        \n",
    "        \n",
    "        cifarimg = cv2.resize(cifarimg,(75,75))\n",
    "        total_cifarlbl.append(lbl[t])\n",
    "        cifardataset.append(cifarimg)\n",
    "print(np.array(cifardataset).shape)\n",
    "print(np.array(total_cifarlbl).shape)"
   ]
  },
  {
   "cell_type": "code",
   "execution_count": 0,
   "metadata": {
    "colab": {
     "base_uri": "https://localhost:8080/",
     "height": 340
    },
    "colab_type": "code",
    "id": "TWQzfkErfA1S",
    "outputId": "9746649d-c3b5-4d8c-fca9-8e905f8bd56c"
   },
   "outputs": [
    {
     "name": "stdout",
     "output_type": "stream",
     "text": [
      "(10000, 75, 75, 3)\n"
     ]
    },
    {
     "data": {
      "image/png": "[encoded data removed]",
      "text/plain": [
       "<Figure size 360x360 with 1 Axes>"
      ]
     },
     "metadata": {
      "tags": []
     },
     "output_type": "display_data"
    }
   ],
   "source": [
    "with open('test_batch', 'rb') as fo:\n",
    "        dict_test = pickle.load(fo,encoding='bytes')\n",
    "# dict_test\n",
    "cifardataset_test=[]     \n",
    "\n",
    "total_cifarimg_test = (dict_test[b'data'].shape[0])\n",
    "total_cifarlbl_test = (dict_test[b'labels'])\n",
    "count=0\n",
    "\n",
    "# print(dict_test[b'data'].shape)\n",
    "\n",
    "for t in range(total_cifarimg_test):\n",
    "    l = (dict_test[b'data'][t])\n",
    "    count=0\n",
    "    cifarimg=np.ndarray(shape=(32,32,3), dtype=np.uint8)\n",
    "#     print(cifarimg.shape)\n",
    "#     for j in range(32):\n",
    "#             for k in range(32):\n",
    "#                 cifarimg[j,k,0]=l[count]\n",
    "#                 cifarimg[j,k,1]=l[1024+count]\n",
    "#                 cifarimg[j,k,2]=l[2048+count]\n",
    "#                 cifarimg=cv2.resize(cifarimg,(32,32))\n",
    "#                 count+=1\n",
    " \n",
    "    img_R = l[0:1024].reshape((32, 32))\n",
    "    img_G = l[1024:2048].reshape((32, 32))\n",
    "    img_B = l[2048:3072].reshape((32, 32))\n",
    "    cifarimg = np.dstack((img_R, img_G, img_B))\n",
    "#     cifarimg = np.reshape(l,(32,32,3))\n",
    "    \n",
    "    cifarimg = cv2.resize(cifarimg,(75,75))\n",
    "    cifardataset_test.append(cifarimg)\n",
    "plt.figure(figsize=(5,5))\n",
    "plt.imshow(cifarimg)\n",
    "# plt.axis(\"off\")\n",
    "print(np.array(cifardataset_test).shape)"
   ]
  },
  {
   "cell_type": "code",
   "execution_count": 0,
   "metadata": {
    "colab": {
     "base_uri": "https://localhost:8080/",
     "height": 33
    },
    "colab_type": "code",
    "id": "JpYMI5gsfAos",
    "outputId": "ac2e8d91-cdcf-4679-8a27-17ec9e1ba447"
   },
   "outputs": [
    {
     "data": {
      "text/plain": [
       "(50000, 75, 75, 3)"
      ]
     },
     "execution_count": 10,
     "metadata": {
      "tags": []
     },
     "output_type": "execute_result"
    }
   ],
   "source": [
    "x_test = np.array(cifardataset_test)\n",
    "y_test = total_cifarlbl_test\n",
    "x_train = np.array(cifardataset)\n",
    "y_train = total_cifarlbl\n",
    "\n",
    "# (x_train, x_val, y_train, y_val) = train_test_split(\n",
    "# cifardataset, total_cifarlbl, test_size=0.25, random_state=42)\n",
    "x_train.shape"
   ]
  },
  {
   "cell_type": "code",
   "execution_count": 0,
   "metadata": {
    "colab": {
     "base_uri": "https://localhost:8080/",
     "height": 66
    },
    "colab_type": "code",
    "id": "MYyB3agdfAZf",
    "outputId": "aaf598ad-7c9f-416a-da6e-9c4e8e8df156"
   },
   "outputs": [
    {
     "name": "stdout",
     "output_type": "stream",
     "text": [
      "x_train shape: (50000, 75, 75, 3)\n",
      "Number of images in x_train 50000\n",
      "Number of images in x_test 10000\n"
     ]
    }
   ],
   "source": [
    "# x_train = x_train.reshape(x_train.shape[0], 32, 32, 3)\n",
    "# x_test = x_test.reshape(x_test.shape[0], 32, 32, 1)\n",
    "# input_shape = (32, 32, 3)\n",
    "# Making sure that the values are float so that we can get decim\n",
    "x_train = x_train.astype('float32')\n",
    "x_test = x_test.astype('float32')\n",
    "# Normalizing the RGB codes by dividing it to the max RGB value.\n",
    "# x_train-=np.mean(x_train,axis=0)\n",
    "# x_test-=np.mean(x_test,axis=0)\n",
    "x_train /= 255\n",
    "x_test /= 255\n",
    "print('x_train shape:', x_train.shape)\n",
    "print('Number of images in x_train', x_train.shape[0])\n",
    "print('Number of images in x_test', x_test.shape[0])"
   ]
  },
  {
   "cell_type": "code",
   "execution_count": 0,
   "metadata": {
    "colab": {},
    "colab_type": "code",
    "id": "NKJlreKzfKHi"
   },
   "outputs": [],
   "source": [
    "model1 = keras.applications.inception_v3.InceptionV3(include_top=False, weights='imagenet', \n",
    "                                                    input_tensor=None, input_shape=(75,75,3), \n",
    "                                                    pooling=None, classes=1000)\n",
    "\n",
    "# model = keras.applications.vgg19.VGG19(include_top=False, weights='imagenet', input_tensor=None,\n",
    "#                                        input_shape=None, pooling=None, classes=1000)\n"
   ]
  },
  {
   "cell_type": "code",
   "execution_count": 0,
   "metadata": {
    "colab": {
     "base_uri": "https://localhost:8080/",
     "height": 5071
    },
    "colab_type": "code",
    "id": "_WYXAU9FrxR_",
    "outputId": "57cc7742-aa18-4175-c344-bcb8522c101d"
   },
   "outputs": [
    {
     "name": "stdout",
     "output_type": "stream",
     "text": [
      "0 input_2\n",
      "1 conv2d_95\n",
      "2 batch_normalization_95\n",
      "3 activation_95\n",
      "4 conv2d_96\n",
      "5 batch_normalization_96\n",
      "6 activation_96\n",
      "7 conv2d_97\n",
      "8 batch_normalization_97\n",
      "9 activation_97\n",
      "10 max_pooling2d_5\n",
      "11 conv2d_98\n",
      "12 batch_normalization_98\n",
      "13 activation_98\n",
      "14 conv2d_99\n",
      "15 batch_normalization_99\n",
      "16 activation_99\n",
      "17 max_pooling2d_6\n",
      "18 conv2d_103\n",
      "19 batch_normalization_103\n",
      "20 activation_103\n",
      "21 conv2d_101\n",
      "22 conv2d_104\n",
      "23 batch_normalization_101\n",
      "24 batch_normalization_104\n",
      "25 activation_101\n",
      "26 activation_104\n",
      "27 average_pooling2d_10\n",
      "28 conv2d_100\n",
      "29 conv2d_102\n",
      "30 conv2d_105\n",
      "31 conv2d_106\n",
      "32 batch_normalization_100\n",
      "33 batch_normalization_102\n",
      "34 batch_normalization_105\n",
      "35 batch_normalization_106\n",
      "36 activation_100\n",
      "37 activation_102\n",
      "38 activation_105\n",
      "39 activation_106\n",
      "40 mixed0\n",
      "41 conv2d_110\n",
      "42 batch_normalization_110\n",
      "43 activation_110\n",
      "44 conv2d_108\n",
      "45 conv2d_111\n",
      "46 batch_normalization_108\n",
      "47 batch_normalization_111\n",
      "48 activation_108\n",
      "49 activation_111\n",
      "50 average_pooling2d_11\n",
      "51 conv2d_107\n",
      "52 conv2d_109\n",
      "53 conv2d_112\n",
      "54 conv2d_113\n",
      "55 batch_normalization_107\n",
      "56 batch_normalization_109\n",
      "57 batch_normalization_112\n",
      "58 batch_normalization_113\n",
      "59 activation_107\n",
      "60 activation_109\n",
      "61 activation_112\n",
      "62 activation_113\n",
      "63 mixed1\n",
      "64 conv2d_117\n",
      "65 batch_normalization_117\n",
      "66 activation_117\n",
      "67 conv2d_115\n",
      "68 conv2d_118\n",
      "69 batch_normalization_115\n",
      "70 batch_normalization_118\n",
      "71 activation_115\n",
      "72 activation_118\n",
      "73 average_pooling2d_12\n",
      "74 conv2d_114\n",
      "75 conv2d_116\n",
      "76 conv2d_119\n",
      "77 conv2d_120\n",
      "78 batch_normalization_114\n",
      "79 batch_normalization_116\n",
      "80 batch_normalization_119\n",
      "81 batch_normalization_120\n",
      "82 activation_114\n",
      "83 activation_116\n",
      "84 activation_119\n",
      "85 activation_120\n",
      "86 mixed2\n",
      "87 conv2d_122\n",
      "88 batch_normalization_122\n",
      "89 activation_122\n",
      "90 conv2d_123\n",
      "91 batch_normalization_123\n",
      "92 activation_123\n",
      "93 conv2d_121\n",
      "94 conv2d_124\n",
      "95 batch_normalization_121\n",
      "96 batch_normalization_124\n",
      "97 activation_121\n",
      "98 activation_124\n",
      "99 max_pooling2d_7\n",
      "100 mixed3\n",
      "101 conv2d_129\n",
      "102 batch_normalization_129\n",
      "103 activation_129\n",
      "104 conv2d_130\n",
      "105 batch_normalization_130\n",
      "106 activation_130\n",
      "107 conv2d_126\n",
      "108 conv2d_131\n",
      "109 batch_normalization_126\n",
      "110 batch_normalization_131\n",
      "111 activation_126\n",
      "112 activation_131\n",
      "113 conv2d_127\n",
      "114 conv2d_132\n",
      "115 batch_normalization_127\n",
      "116 batch_normalization_132\n",
      "117 activation_127\n",
      "118 activation_132\n",
      "119 average_pooling2d_13\n",
      "120 conv2d_125\n",
      "121 conv2d_128\n",
      "122 conv2d_133\n",
      "123 conv2d_134\n",
      "124 batch_normalization_125\n",
      "125 batch_normalization_128\n",
      "126 batch_normalization_133\n",
      "127 batch_normalization_134\n",
      "128 activation_125\n",
      "129 activation_128\n",
      "130 activation_133\n",
      "131 activation_134\n",
      "132 mixed4\n",
      "133 conv2d_139\n",
      "134 batch_normalization_139\n",
      "135 activation_139\n",
      "136 conv2d_140\n",
      "137 batch_normalization_140\n",
      "138 activation_140\n",
      "139 conv2d_136\n",
      "140 conv2d_141\n",
      "141 batch_normalization_136\n",
      "142 batch_normalization_141\n",
      "143 activation_136\n",
      "144 activation_141\n",
      "145 conv2d_137\n",
      "146 conv2d_142\n",
      "147 batch_normalization_137\n",
      "148 batch_normalization_142\n",
      "149 activation_137\n",
      "150 activation_142\n",
      "151 average_pooling2d_14\n",
      "152 conv2d_135\n",
      "153 conv2d_138\n",
      "154 conv2d_143\n",
      "155 conv2d_144\n",
      "156 batch_normalization_135\n",
      "157 batch_normalization_138\n",
      "158 batch_normalization_143\n",
      "159 batch_normalization_144\n",
      "160 activation_135\n",
      "161 activation_138\n",
      "162 activation_143\n",
      "163 activation_144\n",
      "164 mixed5\n",
      "165 conv2d_149\n",
      "166 batch_normalization_149\n",
      "167 activation_149\n",
      "168 conv2d_150\n",
      "169 batch_normalization_150\n",
      "170 activation_150\n",
      "171 conv2d_146\n",
      "172 conv2d_151\n",
      "173 batch_normalization_146\n",
      "174 batch_normalization_151\n",
      "175 activation_146\n",
      "176 activation_151\n",
      "177 conv2d_147\n",
      "178 conv2d_152\n",
      "179 batch_normalization_147\n",
      "180 batch_normalization_152\n",
      "181 activation_147\n",
      "182 activation_152\n",
      "183 average_pooling2d_15\n",
      "184 conv2d_145\n",
      "185 conv2d_148\n",
      "186 conv2d_153\n",
      "187 conv2d_154\n",
      "188 batch_normalization_145\n",
      "189 batch_normalization_148\n",
      "190 batch_normalization_153\n",
      "191 batch_normalization_154\n",
      "192 activation_145\n",
      "193 activation_148\n",
      "194 activation_153\n",
      "195 activation_154\n",
      "196 mixed6\n",
      "197 conv2d_159\n",
      "198 batch_normalization_159\n",
      "199 activation_159\n",
      "200 conv2d_160\n",
      "201 batch_normalization_160\n",
      "202 activation_160\n",
      "203 conv2d_156\n",
      "204 conv2d_161\n",
      "205 batch_normalization_156\n",
      "206 batch_normalization_161\n",
      "207 activation_156\n",
      "208 activation_161\n",
      "209 conv2d_157\n",
      "210 conv2d_162\n",
      "211 batch_normalization_157\n",
      "212 batch_normalization_162\n",
      "213 activation_157\n",
      "214 activation_162\n",
      "215 average_pooling2d_16\n",
      "216 conv2d_155\n",
      "217 conv2d_158\n",
      "218 conv2d_163\n",
      "219 conv2d_164\n",
      "220 batch_normalization_155\n",
      "221 batch_normalization_158\n",
      "222 batch_normalization_163\n",
      "223 batch_normalization_164\n",
      "224 activation_155\n",
      "225 activation_158\n",
      "226 activation_163\n",
      "227 activation_164\n",
      "228 mixed7\n",
      "229 conv2d_167\n",
      "230 batch_normalization_167\n",
      "231 activation_167\n",
      "232 conv2d_168\n",
      "233 batch_normalization_168\n",
      "234 activation_168\n",
      "235 conv2d_165\n",
      "236 conv2d_169\n",
      "237 batch_normalization_165\n",
      "238 batch_normalization_169\n",
      "239 activation_165\n",
      "240 activation_169\n",
      "241 conv2d_166\n",
      "242 conv2d_170\n",
      "243 batch_normalization_166\n",
      "244 batch_normalization_170\n",
      "245 activation_166\n",
      "246 activation_170\n",
      "247 max_pooling2d_8\n",
      "248 mixed8\n",
      "249 conv2d_175\n",
      "250 batch_normalization_175\n",
      "251 activation_175\n",
      "252 conv2d_172\n",
      "253 conv2d_176\n",
      "254 batch_normalization_172\n",
      "255 batch_normalization_176\n",
      "256 activation_172\n",
      "257 activation_176\n",
      "258 conv2d_173\n",
      "259 conv2d_174\n",
      "260 conv2d_177\n",
      "261 conv2d_178\n",
      "262 average_pooling2d_17\n",
      "263 conv2d_171\n",
      "264 batch_normalization_173\n",
      "265 batch_normalization_174\n",
      "266 batch_normalization_177\n",
      "267 batch_normalization_178\n",
      "268 conv2d_179\n",
      "269 batch_normalization_171\n",
      "270 activation_173\n",
      "271 activation_174\n",
      "272 activation_177\n",
      "273 activation_178\n",
      "274 batch_normalization_179\n",
      "275 activation_171\n",
      "276 mixed9_0\n",
      "277 concatenate_3\n",
      "278 activation_179\n",
      "279 mixed9\n",
      "280 conv2d_184\n",
      "281 batch_normalization_184\n",
      "282 activation_184\n",
      "283 conv2d_181\n",
      "284 conv2d_185\n",
      "285 batch_normalization_181\n",
      "286 batch_normalization_185\n",
      "287 activation_181\n",
      "288 activation_185\n",
      "289 conv2d_182\n",
      "290 conv2d_183\n",
      "291 conv2d_186\n",
      "292 conv2d_187\n",
      "293 average_pooling2d_18\n",
      "294 conv2d_180\n",
      "295 batch_normalization_182\n",
      "296 batch_normalization_183\n",
      "297 batch_normalization_186\n",
      "298 batch_normalization_187\n",
      "299 conv2d_188\n",
      "300 batch_normalization_180\n",
      "301 activation_182\n",
      "302 activation_183\n",
      "303 activation_186\n",
      "304 activation_187\n",
      "305 batch_normalization_188\n",
      "306 activation_180\n",
      "307 mixed9_1\n",
      "308 concatenate_4\n",
      "309 activation_188\n",
      "310 mixed10\n"
     ]
    }
   ],
   "source": [
    "for i,layer in enumerate(model1.layers):\n",
    "  print(i,layer.name)"
   ]
  },
  {
   "cell_type": "code",
   "execution_count": 0,
   "metadata": {
    "colab": {},
    "colab_type": "code",
    "id": "8woBwNztrjoa"
   },
   "outputs": [],
   "source": [
    "# for layer in model1.layers:\n",
    "#     layer.trainable=False\n",
    "#  we chose to train the top 2 inception blocks, i.e. we will freeze\n",
    "# the first 249 layers and unfreeze the rest:\n",
    "# for layer in model1.layers[:278]:\n",
    "#    layer.trainable = False\n",
    "# for layer in model1.layers[279:]:\n",
    "#    layer.trainable = True"
   ]
  },
  {
   "cell_type": "code",
   "execution_count": 0,
   "metadata": {
    "colab": {},
    "colab_type": "code",
    "id": "IqMXdzxGfXNy"
   },
   "outputs": [],
   "source": [
    "add_model = Sequential()\n",
    "add_model.add(model1)\n",
    "add_model.add(GlobalAveragePooling2D())\n",
    "add_model.add(Dropout(0.4))\n",
    "# add_model.add(Dense(2048, activation='relu'))\n",
    "# add_model.add(Dropout(0.4))\n",
    "# kernel_regularizer=keras.regularizers.l2(0.01)\n",
    "add_model.add(Dense(1024, activation='relu',kernel_regularizer=keras.regularizers.l2(0.007)))\n",
    "add_model.add(Dropout(0.4))\n",
    "add_model.add(Dense(10,activation='softmax'))\n",
    "model = add_model\n",
    "# model=model1\n",
    "# x = model.output\n",
    "# print(x.shape)\n",
    "# x = keras.layers.GlobalAveragePooling2D()(x)\n",
    "# # x = Flatten(input_shape=model.output_shape[1:])(x)\n",
    "# print(x.shape)\n",
    "# # x = Dense(4096, activation='relu')(x)\n",
    "# # x = Dropout(0.4)(x)\n",
    "# # x = Dense(2048, activation='relu')(x)\n",
    "# # x = GaussianDropout(0.4)(x)\n",
    "# x = Dense(1024, activation='relu')(x)\n",
    "\n",
    "# # x = Dense(512, activation='relu')(x)\n",
    "# # x = Dropout(0.4)(x)\n",
    "# x = GaussianDropout(0.4)(x)\n",
    "# predictions = Dense(10, activation='softmax')(x)\n",
    "# model = Model(model.input, predictions)"
   ]
  },
  {
   "cell_type": "code",
   "execution_count": 0,
   "metadata": {
    "colab": {},
    "colab_type": "code",
    "id": "4rnQA36xfZXL"
   },
   "outputs": [],
   "source": [
    "lr=0.001\n",
    "model.compile(optimizer=SGD(lr=lr, momentum=0.9),loss=\"sparse_categorical_crossentropy\",metrics=[\"accuracy\"])\n",
    "\n",
    "# model.compile(optimizer=SGD(lr=lr, momentum=0.9),loss=\"sparse_categorical_crossentropy\",metrics=[\"accuracy\"])"
   ]
  },
  {
   "cell_type": "code",
   "execution_count": 0,
   "metadata": {
    "colab": {
     "base_uri": "https://localhost:8080/",
     "height": 915
    },
    "colab_type": "code",
    "id": "GxxZ1N5vfcsJ",
    "outputId": "a3468973-2e3e-4051-a164-7f9680b10f1e"
   },
   "outputs": [
    {
     "name": "stdout",
     "output_type": "stream",
     "text": [
      "WARNING:tensorflow:From /usr/local/lib/python3.6/dist-packages/tensorflow/python/ops/math_ops.py:3066: to_int32 (from tensorflow.python.ops.math_ops) is deprecated and will be removed in a future version.\n",
      "Instructions for updating:\n",
      "Use tf.cast instead.\n",
      "Train on 37500 samples, validate on 12500 samples\n",
      "Epoch 1/25\n",
      "37500/37500 [==============================] - 236s 6ms/step - loss: 8.4739 - acc: 0.4968 - val_loss: 5.8370 - val_acc: 0.7291\n",
      "Epoch 2/25\n",
      "37500/37500 [==============================] - 214s 6ms/step - loss: 4.5571 - acc: 0.7017 - val_loss: 4.8851 - val_acc: 0.6456\n",
      "Epoch 3/25\n",
      "37500/37500 [==============================] - 210s 6ms/step - loss: 2.6469 - acc: 0.7605 - val_loss: 1.9469 - val_acc: 0.8274\n",
      "Epoch 4/25\n",
      "37500/37500 [==============================] - 214s 6ms/step - loss: 1.5386 - acc: 0.8262 - val_loss: 1.1987 - val_acc: 0.8509\n",
      "Epoch 5/25\n",
      "37500/37500 [==============================] - 218s 6ms/step - loss: 0.9589 - acc: 0.8621 - val_loss: 0.9470 - val_acc: 0.8499\n",
      "Epoch 6/25\n",
      "37500/37500 [==============================] - 214s 6ms/step - loss: 0.6366 - acc: 0.8897 - val_loss: 0.6402 - val_acc: 0.8627\n",
      "Epoch 7/25\n",
      "37500/37500 [==============================] - 217s 6ms/step - loss: 0.4851 - acc: 0.8975 - val_loss: 0.5314 - val_acc: 0.8742\n",
      "Epoch 8/25\n",
      "37500/37500 [==============================] - 216s 6ms/step - loss: 0.3326 - acc: 0.9254 - val_loss: 0.5429 - val_acc: 0.8586\n",
      "Epoch 9/25\n",
      "37500/37500 [==============================] - 213s 6ms/step - loss: 0.2704 - acc: 0.9354 - val_loss: 0.5377 - val_acc: 0.8538\n",
      "Epoch 10/25\n",
      "37500/37500 [==============================] - 208s 6ms/step - loss: 0.2279 - acc: 0.9443 - val_loss: 0.6589 - val_acc: 0.8575\n",
      "Epoch 11/25\n",
      "37500/37500 [==============================] - 209s 6ms/step - loss: 0.1854 - acc: 0.9544 - val_loss: 0.6542 - val_acc: 0.8623\n",
      "Epoch 12/25\n",
      "37500/37500 [==============================] - 211s 6ms/step - loss: 0.1565 - acc: 0.9619 - val_loss: 0.7033 - val_acc: 0.8470\n",
      "Epoch 13/25\n",
      "37500/37500 [==============================] - 213s 6ms/step - loss: 0.1261 - acc: 0.9705 - val_loss: 0.6127 - val_acc: 0.8612\n",
      "Epoch 14/25\n",
      "37500/37500 [==============================] - 212s 6ms/step - loss: 0.1534 - acc: 0.9612 - val_loss: 0.6902 - val_acc: 0.8634\n",
      "Epoch 15/25\n",
      "37500/37500 [==============================] - 226s 6ms/step - loss: 0.1130 - acc: 0.9741 - val_loss: 0.5484 - val_acc: 0.8754\n",
      "Epoch 16/25\n",
      "37500/37500 [==============================] - 219s 6ms/step - loss: 0.0933 - acc: 0.9799 - val_loss: 0.5676 - val_acc: 0.8718\n",
      "Epoch 17/25\n",
      "37500/37500 [==============================] - 219s 6ms/step - loss: 0.0788 - acc: 0.9831 - val_loss: 0.8357 - val_acc: 0.8552\n",
      "Epoch 18/25\n",
      "37500/37500 [==============================] - 212s 6ms/step - loss: 0.0720 - acc: 0.9849 - val_loss: 0.5659 - val_acc: 0.8774\n",
      "Epoch 19/25\n",
      "37500/37500 [==============================] - 214s 6ms/step - loss: 0.0661 - acc: 0.9856 - val_loss: 0.6061 - val_acc: 0.8698\n",
      "Epoch 20/25\n",
      "37500/37500 [==============================] - 214s 6ms/step - loss: 0.0649 - acc: 0.9868 - val_loss: 0.5847 - val_acc: 0.8679\n",
      "Epoch 21/25\n",
      "37500/37500 [==============================] - 219s 6ms/step - loss: 0.0601 - acc: 0.9875 - val_loss: 0.5000 - val_acc: 0.8779\n",
      "Epoch 22/25\n",
      "37500/37500 [==============================] - 221s 6ms/step - loss: 0.0548 - acc: 0.9894 - val_loss: 0.6835 - val_acc: 0.8694\n",
      "Epoch 23/25\n",
      "37500/37500 [==============================] - 211s 6ms/step - loss: 0.0531 - acc: 0.9895 - val_loss: 0.6469 - val_acc: 0.8709\n",
      "Epoch 24/25\n",
      "37500/37500 [==============================] - 213s 6ms/step - loss: 0.0505 - acc: 0.9906 - val_loss: 0.6626 - val_acc: 0.8731\n",
      "Epoch 25/25\n",
      "35824/37500 [===========================>..] - ETA: 9s - loss: 0.0461 - acc: 0.9910Buffered data was truncated after reaching the output size limit."
     ]
    }
   ],
   "source": [
    "batch_size=16\n",
    "history = model.fit(x=x_train,y=y_train,batch_size=batch_size,shuffle=True,validation_split=0.25,epochs=25)"
   ]
  },
  {
   "cell_type": "code",
   "execution_count": 0,
   "metadata": {
    "colab": {},
    "colab_type": "code",
    "id": "dh__TjNVhITh"
   },
   "outputs": [],
   "source": [
    "# model.save(\"model.h5\")\n",
    "# model = load_model(\"model.h5\")\n",
    "# history1 = model.fit(x=x_train,y=y_train,initial_epoch=10,batch_size=batch_size,shuffle=True,validation_split=0.25,epochs=20)"
   ]
  },
  {
   "cell_type": "code",
   "execution_count": 0,
   "metadata": {
    "colab": {
     "base_uri": "https://localhost:8080/",
     "height": 1642
    },
    "colab_type": "code",
    "id": "0v2Hpoe5HPvV",
    "outputId": "0cac014e-3179-4163-8b45-34d4b689c4ef"
   },
   "outputs": [
    {
     "data": {
      "text/plain": [
       "{'acc': [0.49682666666348774,\n",
       "  0.7016533333396912,\n",
       "  0.7604533333269755,\n",
       "  0.82624,\n",
       "  0.8621333333333333,\n",
       "  0.8897066666603088,\n",
       "  0.8975466666603088,\n",
       "  0.9253599999936422,\n",
       "  0.9353599999936422,\n",
       "  0.9443466666730245,\n",
       "  0.9544266666666666,\n",
       "  0.9618666666666666,\n",
       "  0.97048,\n",
       "  0.9611733333333333,\n",
       "  0.9741066666666667,\n",
       "  0.9799200000063578,\n",
       "  0.9830666666730244,\n",
       "  0.9849333333333333,\n",
       "  0.9855733333333333,\n",
       "  0.9867733333333333,\n",
       "  0.9875199999936422,\n",
       "  0.9893866666666666,\n",
       "  0.98952,\n",
       "  0.99056,\n",
       "  0.9910133333333333],\n",
       " 'loss': [8.473856189117432,\n",
       "  4.557077303288778,\n",
       "  2.646932119547526,\n",
       "  1.5386415147336323,\n",
       "  0.9588968475310008,\n",
       "  0.6365612090746562,\n",
       "  0.4850504514503479,\n",
       "  0.3325595669301351,\n",
       "  0.27041226005872093,\n",
       "  0.22792239992936453,\n",
       "  0.1853858358867963,\n",
       "  0.15652207344214122,\n",
       "  0.12609700651725134,\n",
       "  0.15344559990008672,\n",
       "  0.11300595816055933,\n",
       "  0.09329685811599096,\n",
       "  0.07880215202490488,\n",
       "  0.07202463613351186,\n",
       "  0.06614948670268059,\n",
       "  0.06486232663591703,\n",
       "  0.060113964001337686,\n",
       "  0.054846843745708466,\n",
       "  0.05313597694555918,\n",
       "  0.050514515817960105,\n",
       "  0.046249237163265546],\n",
       " 'val_acc': [0.72912,\n",
       "  0.6456,\n",
       "  0.82744,\n",
       "  0.85088,\n",
       "  0.84992,\n",
       "  0.86272,\n",
       "  0.87424,\n",
       "  0.85856,\n",
       "  0.85376,\n",
       "  0.85752,\n",
       "  0.86232,\n",
       "  0.84696,\n",
       "  0.8612,\n",
       "  0.86344,\n",
       "  0.87544,\n",
       "  0.87176,\n",
       "  0.8552,\n",
       "  0.87744,\n",
       "  0.86984,\n",
       "  0.86792,\n",
       "  0.87792,\n",
       "  0.86936,\n",
       "  0.87088,\n",
       "  0.87312,\n",
       "  0.87944],\n",
       " 'val_loss': [5.837039666137695,\n",
       "  4.885123520812988,\n",
       "  1.9468851591491698,\n",
       "  1.1987372222137451,\n",
       "  0.947002891254425,\n",
       "  0.6401614528656006,\n",
       "  0.5313983951759338,\n",
       "  0.5428624990463257,\n",
       "  0.5377303224277497,\n",
       "  0.6589483838844299,\n",
       "  0.6542347169542313,\n",
       "  0.7033154058694839,\n",
       "  0.6126970739746094,\n",
       "  0.6901612315750122,\n",
       "  0.5483898565196991,\n",
       "  0.5675870609664917,\n",
       "  0.8356984865140915,\n",
       "  0.5658726920485496,\n",
       "  0.6061490356016159,\n",
       "  0.5846559727454186,\n",
       "  0.4999770429587364,\n",
       "  0.6834963220953941,\n",
       "  0.6469372952151299,\n",
       "  0.662616844265461,\n",
       "  0.5595426428198814]}"
      ]
     },
     "execution_count": 19,
     "metadata": {
      "tags": []
     },
     "output_type": "execute_result"
    }
   ],
   "source": [
    "history.history"
   ]
  },
  {
   "cell_type": "code",
   "execution_count": 0,
   "metadata": {
    "colab": {},
    "colab_type": "code",
    "id": "qQXnHYtLw6oZ"
   },
   "outputs": [],
   "source": [
    "# history2 = history.history\n",
    "# history2['acc']= (history.history['acc']+history1.history['acc'])\n",
    "# history2['loss']= (history.history['loss']+history1.history['loss'])\n",
    "# history2['val_acc']= (history.history['val_acc']+history1.history['val_acc'])\n",
    "# history2['val_loss']= (history.history['val_loss']+history1.history['val_loss'])\n",
    "# history.history = history2"
   ]
  },
  {
   "cell_type": "code",
   "execution_count": 0,
   "metadata": {
    "colab": {},
    "colab_type": "code",
    "id": "Jv32V3fOzEnH"
   },
   "outputs": [],
   "source": [
    "# # history.history\n",
    "# def Remove(duplicate): \n",
    "#     final_list = [] \n",
    "#     for num in duplicate: \n",
    "#         if num not in final_list: \n",
    "#             final_list.append(num) \n",
    "#     return final_list \n",
    "\n",
    "# history.history['val_loss']=Remove(history.history['val_loss'])\n",
    "\n",
    "# history.history['loss']=Remove(history.history['loss'])\n",
    "\n",
    "# history.history['acc']=Remove(history.history['acc'])\n",
    "\n",
    "# history.history['val_acc']=Remove(history.history['val_acc'])"
   ]
  },
  {
   "cell_type": "code",
   "execution_count": 0,
   "metadata": {
    "colab": {
     "base_uri": "https://localhost:8080/",
     "height": 572
    },
    "colab_type": "code",
    "id": "FphhpPpEpGnT",
    "outputId": "fb2dbb3f-9173-4094-95ff-7b67f6134fea"
   },
   "outputs": [
    {
     "data": {
      "image/png": "[encoded data removed]",
      "text/plain": [
       "<Figure size 432x288 with 1 Axes>"
      ]
     },
     "metadata": {
      "tags": []
     },
     "output_type": "display_data"
    },
    {
     "data": {
      "image/png": "[encoded data removed]",
      "text/plain": [
       "<Figure size 432x288 with 1 Axes>"
      ]
     },
     "metadata": {
      "tags": []
     },
     "output_type": "display_data"
    }
   ],
   "source": [
    "# Plot training & validation accuracy values\n",
    "# plt.figure(figsize=(15,15))\n",
    "# plt.subplot(1,2,1)\n",
    "plt.plot(history.history['acc'])\n",
    "plt.plot(history.history['val_acc'])\n",
    "plt.title('Model accuracy')\n",
    "plt.ylabel('Accuracy')\n",
    "plt.xlabel('Epoch')\n",
    "plt.legend(['Train', 'Test'], loc='upper left')\n",
    "plt.show()\n",
    "\n",
    "# Plot training & validation loss values\n",
    "# plt.subplot(1,2,2)\n",
    "plt.plot(history.history['loss'])\n",
    "plt.plot(history.history['val_loss'])\n",
    "plt.title('Model loss')\n",
    "plt.ylabel('Loss')\n",
    "plt.xlabel('Epoch')\n",
    "plt.legend(['Train', 'Test'], loc='upper left')\n",
    "plt.show()"
   ]
  },
  {
   "cell_type": "code",
   "execution_count": 0,
   "metadata": {
    "colab": {
     "base_uri": "https://localhost:8080/",
     "height": 50
    },
    "colab_type": "code",
    "id": "3Y1TOyXLff2v",
    "outputId": "78f5897b-5174-42c4-a5ed-4115badb05a8"
   },
   "outputs": [
    {
     "name": "stdout",
     "output_type": "stream",
     "text": [
      "10000/10000 [==============================] - 10s 967us/step\n"
     ]
    },
    {
     "data": {
      "text/plain": [
       "[0.8442137875795365, 0.8053]"
      ]
     },
     "execution_count": 50,
     "metadata": {
      "tags": []
     },
     "output_type": "execute_result"
    }
   ],
   "source": [
    "loss_and_metrics = model.evaluate(x_test, y_test, batch_size=batch_size)\n",
    "loss_and_metrics"
   ]
  },
  {
   "cell_type": "code",
   "execution_count": 0,
   "metadata": {
    "colab": {},
    "colab_type": "code",
    "id": "W0-yWzjk0_Nq"
   },
   "outputs": [],
   "source": [
    "# len(h['val_loss'])"
   ]
  },
  {
   "cell_type": "code",
   "execution_count": 0,
   "metadata": {
    "colab": {
     "base_uri": "https://localhost:8080/",
     "height": 1183
    },
    "colab_type": "code",
    "id": "vcZAZf4WyjrH",
    "outputId": "74def664-f1f3-4099-f64a-15507bca29e4"
   },
   "outputs": [
    {
     "data": {
      "text/html": [
       "<div>\n",
       "<style scoped>\n",
       "    .dataframe tbody tr th:only-of-type {\n",
       "        vertical-align: middle;\n",
       "    }\n",
       "\n",
       "    .dataframe tbody tr th {\n",
       "        vertical-align: top;\n",
       "    }\n",
       "\n",
       "    .dataframe thead th {\n",
       "        text-align: right;\n",
       "    }\n",
       "</style>\n",
       "<table border=\"1\" class=\"dataframe\">\n",
       "  <thead>\n",
       "    <tr style=\"text-align: right;\">\n",
       "      <th></th>\n",
       "      <th>val_loss</th>\n",
       "      <th>val_acc</th>\n",
       "      <th>loss</th>\n",
       "      <th>acc</th>\n",
       "      <th>Iterations</th>\n",
       "      <th>DropOut</th>\n",
       "      <th>Batch_Size</th>\n",
       "      <th>BatchNorm</th>\n",
       "      <th>Optimizer</th>\n",
       "      <th>Learning_Rate</th>\n",
       "      <th>Loss_function</th>\n",
       "      <th>Epoch</th>\n",
       "      <th>Test_acc</th>\n",
       "      <th>Test_loss</th>\n",
       "      <th>Trainable Layers</th>\n",
       "      <th>FC Layers</th>\n",
       "    </tr>\n",
       "  </thead>\n",
       "  <tbody>\n",
       "    <tr>\n",
       "      <th>0</th>\n",
       "      <td>6.045416</td>\n",
       "      <td>0.69672</td>\n",
       "      <td>8.534369</td>\n",
       "      <td>0.479360</td>\n",
       "      <td>17</td>\n",
       "      <td>Dropout-0.4 after each layer and L2(0.007) bef...</td>\n",
       "      <td>16</td>\n",
       "      <td>No</td>\n",
       "      <td>SGD</td>\n",
       "      <td>0.001</td>\n",
       "      <td>Sparse_Categorical_CrossEntropy</td>\n",
       "      <td>1</td>\n",
       "      <td>0.8053</td>\n",
       "      <td>0.844214</td>\n",
       "      <td>No</td>\n",
       "      <td>1-1024</td>\n",
       "    </tr>\n",
       "    <tr>\n",
       "      <th>1</th>\n",
       "      <td>3.592375</td>\n",
       "      <td>0.70192</td>\n",
       "      <td>4.627445</td>\n",
       "      <td>0.677360</td>\n",
       "      <td>17</td>\n",
       "      <td>Dropout-0.4 after each layer and L2(0.007) bef...</td>\n",
       "      <td>16</td>\n",
       "      <td>No</td>\n",
       "      <td>SGD</td>\n",
       "      <td>0.001</td>\n",
       "      <td>Sparse_Categorical_CrossEntropy</td>\n",
       "      <td>2</td>\n",
       "      <td>0.8053</td>\n",
       "      <td>0.844214</td>\n",
       "      <td>No</td>\n",
       "      <td>1-1024</td>\n",
       "    </tr>\n",
       "    <tr>\n",
       "      <th>2</th>\n",
       "      <td>2.398902</td>\n",
       "      <td>0.66792</td>\n",
       "      <td>2.953427</td>\n",
       "      <td>0.651413</td>\n",
       "      <td>17</td>\n",
       "      <td>Dropout-0.4 after each layer and L2(0.007) bef...</td>\n",
       "      <td>16</td>\n",
       "      <td>No</td>\n",
       "      <td>SGD</td>\n",
       "      <td>0.001</td>\n",
       "      <td>Sparse_Categorical_CrossEntropy</td>\n",
       "      <td>3</td>\n",
       "      <td>0.8053</td>\n",
       "      <td>0.844214</td>\n",
       "      <td>No</td>\n",
       "      <td>1-1024</td>\n",
       "    </tr>\n",
       "    <tr>\n",
       "      <th>3</th>\n",
       "      <td>2.223462</td>\n",
       "      <td>0.71224</td>\n",
       "      <td>2.021548</td>\n",
       "      <td>0.662107</td>\n",
       "      <td>17</td>\n",
       "      <td>Dropout-0.4 after each layer and L2(0.007) bef...</td>\n",
       "      <td>16</td>\n",
       "      <td>No</td>\n",
       "      <td>SGD</td>\n",
       "      <td>0.001</td>\n",
       "      <td>Sparse_Categorical_CrossEntropy</td>\n",
       "      <td>4</td>\n",
       "      <td>0.8053</td>\n",
       "      <td>0.844214</td>\n",
       "      <td>No</td>\n",
       "      <td>1-1024</td>\n",
       "    </tr>\n",
       "    <tr>\n",
       "      <th>4</th>\n",
       "      <td>1.141205</td>\n",
       "      <td>0.79816</td>\n",
       "      <td>1.313356</td>\n",
       "      <td>0.745333</td>\n",
       "      <td>17</td>\n",
       "      <td>Dropout-0.4 after each layer and L2(0.007) bef...</td>\n",
       "      <td>16</td>\n",
       "      <td>No</td>\n",
       "      <td>SGD</td>\n",
       "      <td>0.001</td>\n",
       "      <td>Sparse_Categorical_CrossEntropy</td>\n",
       "      <td>5</td>\n",
       "      <td>0.8053</td>\n",
       "      <td>0.844214</td>\n",
       "      <td>No</td>\n",
       "      <td>1-1024</td>\n",
       "    </tr>\n",
       "    <tr>\n",
       "      <th>5</th>\n",
       "      <td>1.013230</td>\n",
       "      <td>0.74952</td>\n",
       "      <td>1.137398</td>\n",
       "      <td>0.720800</td>\n",
       "      <td>17</td>\n",
       "      <td>Dropout-0.4 after each layer and L2(0.007) bef...</td>\n",
       "      <td>16</td>\n",
       "      <td>No</td>\n",
       "      <td>SGD</td>\n",
       "      <td>0.001</td>\n",
       "      <td>Sparse_Categorical_CrossEntropy</td>\n",
       "      <td>6</td>\n",
       "      <td>0.8053</td>\n",
       "      <td>0.844214</td>\n",
       "      <td>No</td>\n",
       "      <td>1-1024</td>\n",
       "    </tr>\n",
       "    <tr>\n",
       "      <th>6</th>\n",
       "      <td>0.888336</td>\n",
       "      <td>0.78152</td>\n",
       "      <td>0.935490</td>\n",
       "      <td>0.746320</td>\n",
       "      <td>17</td>\n",
       "      <td>Dropout-0.4 after each layer and L2(0.007) bef...</td>\n",
       "      <td>16</td>\n",
       "      <td>No</td>\n",
       "      <td>SGD</td>\n",
       "      <td>0.001</td>\n",
       "      <td>Sparse_Categorical_CrossEntropy</td>\n",
       "      <td>7</td>\n",
       "      <td>0.8053</td>\n",
       "      <td>0.844214</td>\n",
       "      <td>No</td>\n",
       "      <td>1-1024</td>\n",
       "    </tr>\n",
       "    <tr>\n",
       "      <th>7</th>\n",
       "      <td>1.097493</td>\n",
       "      <td>0.76320</td>\n",
       "      <td>0.721769</td>\n",
       "      <td>0.797013</td>\n",
       "      <td>17</td>\n",
       "      <td>Dropout-0.4 after each layer and L2(0.007) bef...</td>\n",
       "      <td>16</td>\n",
       "      <td>No</td>\n",
       "      <td>SGD</td>\n",
       "      <td>0.001</td>\n",
       "      <td>Sparse_Categorical_CrossEntropy</td>\n",
       "      <td>8</td>\n",
       "      <td>0.8053</td>\n",
       "      <td>0.844214</td>\n",
       "      <td>No</td>\n",
       "      <td>1-1024</td>\n",
       "    </tr>\n",
       "    <tr>\n",
       "      <th>8</th>\n",
       "      <td>0.806631</td>\n",
       "      <td>0.80776</td>\n",
       "      <td>0.650074</td>\n",
       "      <td>0.807413</td>\n",
       "      <td>17</td>\n",
       "      <td>Dropout-0.4 after each layer and L2(0.007) bef...</td>\n",
       "      <td>16</td>\n",
       "      <td>No</td>\n",
       "      <td>SGD</td>\n",
       "      <td>0.001</td>\n",
       "      <td>Sparse_Categorical_CrossEntropy</td>\n",
       "      <td>9</td>\n",
       "      <td>0.8053</td>\n",
       "      <td>0.844214</td>\n",
       "      <td>No</td>\n",
       "      <td>1-1024</td>\n",
       "    </tr>\n",
       "    <tr>\n",
       "      <th>9</th>\n",
       "      <td>0.823044</td>\n",
       "      <td>0.80392</td>\n",
       "      <td>0.541206</td>\n",
       "      <td>0.838667</td>\n",
       "      <td>17</td>\n",
       "      <td>Dropout-0.4 after each layer and L2(0.007) bef...</td>\n",
       "      <td>16</td>\n",
       "      <td>No</td>\n",
       "      <td>SGD</td>\n",
       "      <td>0.001</td>\n",
       "      <td>Sparse_Categorical_CrossEntropy</td>\n",
       "      <td>10</td>\n",
       "      <td>0.8053</td>\n",
       "      <td>0.844214</td>\n",
       "      <td>No</td>\n",
       "      <td>1-1024</td>\n",
       "    </tr>\n",
       "  </tbody>\n",
       "</table>\n",
       "</div>"
      ],
      "text/plain": [
       "   val_loss  val_acc      loss       acc  Iterations  \\\n",
       "0  6.045416  0.69672  8.534369  0.479360          17   \n",
       "1  3.592375  0.70192  4.627445  0.677360          17   \n",
       "2  2.398902  0.66792  2.953427  0.651413          17   \n",
       "3  2.223462  0.71224  2.021548  0.662107          17   \n",
       "4  1.141205  0.79816  1.313356  0.745333          17   \n",
       "5  1.013230  0.74952  1.137398  0.720800          17   \n",
       "6  0.888336  0.78152  0.935490  0.746320          17   \n",
       "7  1.097493  0.76320  0.721769  0.797013          17   \n",
       "8  0.806631  0.80776  0.650074  0.807413          17   \n",
       "9  0.823044  0.80392  0.541206  0.838667          17   \n",
       "\n",
       "                                             DropOut  Batch_Size BatchNorm  \\\n",
       "0  Dropout-0.4 after each layer and L2(0.007) bef...          16        No   \n",
       "1  Dropout-0.4 after each layer and L2(0.007) bef...          16        No   \n",
       "2  Dropout-0.4 after each layer and L2(0.007) bef...          16        No   \n",
       "3  Dropout-0.4 after each layer and L2(0.007) bef...          16        No   \n",
       "4  Dropout-0.4 after each layer and L2(0.007) bef...          16        No   \n",
       "5  Dropout-0.4 after each layer and L2(0.007) bef...          16        No   \n",
       "6  Dropout-0.4 after each layer and L2(0.007) bef...          16        No   \n",
       "7  Dropout-0.4 after each layer and L2(0.007) bef...          16        No   \n",
       "8  Dropout-0.4 after each layer and L2(0.007) bef...          16        No   \n",
       "9  Dropout-0.4 after each layer and L2(0.007) bef...          16        No   \n",
       "\n",
       "  Optimizer  Learning_Rate                    Loss_function  Epoch  Test_acc  \\\n",
       "0       SGD          0.001  Sparse_Categorical_CrossEntropy      1    0.8053   \n",
       "1       SGD          0.001  Sparse_Categorical_CrossEntropy      2    0.8053   \n",
       "2       SGD          0.001  Sparse_Categorical_CrossEntropy      3    0.8053   \n",
       "3       SGD          0.001  Sparse_Categorical_CrossEntropy      4    0.8053   \n",
       "4       SGD          0.001  Sparse_Categorical_CrossEntropy      5    0.8053   \n",
       "5       SGD          0.001  Sparse_Categorical_CrossEntropy      6    0.8053   \n",
       "6       SGD          0.001  Sparse_Categorical_CrossEntropy      7    0.8053   \n",
       "7       SGD          0.001  Sparse_Categorical_CrossEntropy      8    0.8053   \n",
       "8       SGD          0.001  Sparse_Categorical_CrossEntropy      9    0.8053   \n",
       "9       SGD          0.001  Sparse_Categorical_CrossEntropy     10    0.8053   \n",
       "\n",
       "   Test_loss Trainable Layers FC Layers  \n",
       "0   0.844214               No    1-1024  \n",
       "1   0.844214               No    1-1024  \n",
       "2   0.844214               No    1-1024  \n",
       "3   0.844214               No    1-1024  \n",
       "4   0.844214               No    1-1024  \n",
       "5   0.844214               No    1-1024  \n",
       "6   0.844214               No    1-1024  \n",
       "7   0.844214               No    1-1024  \n",
       "8   0.844214               No    1-1024  \n",
       "9   0.844214               No    1-1024  "
      ]
     },
     "execution_count": 51,
     "metadata": {
      "tags": []
     },
     "output_type": "execute_result"
    }
   ],
   "source": [
    "# ite=15\n",
    "ite=ite+1\n",
    "h= history.history\n",
    "# del(h['Epoch'])\n",
    "h['Iterations']=ite\n",
    "\n",
    "h['DropOut']=\"Dropout-0.4 after each layer and L2(0.007) before softmax\"\n",
    "h[\"Batch_Size\"]=batch_size\n",
    "h['BatchNorm']=\"No\"\n",
    "h['Optimizer']=\"SGD\"\n",
    "h[\"Learning_Rate\"]=lr\n",
    "h[\"Loss_function\"]=\"Sparse_Categorical_CrossEntropy\"\n",
    "h['Epoch']=list(np.arange(1,len(h['val_loss'])+1))\n",
    "h['Test_acc']=loss_and_metrics[1]\n",
    "h['Test_loss']=loss_and_metrics[0]\n",
    "h['Trainable Layers']=\"No\"\n",
    "h['FC Layers']=\"1-1024\"\n",
    "logpd = pd.DataFrame(data=h)\n",
    "# logpd= pd.DataFrame([np.array(np.zeros(3))],columns=['Iteration','val_loss','loss'])\n",
    "# logpd.at[1,'val_loss']=h['val_loss']\n",
    "# logpd.at[1,'loss']=h['loss']\n",
    "logpd\n",
    "# h\n",
    "# h['val_loss']"
   ]
  },
  {
   "cell_type": "code",
   "execution_count": 0,
   "metadata": {
    "colab": {},
    "colab_type": "code",
    "id": "ZPfRCK47fxCk"
   },
   "outputs": [],
   "source": [
    "import csv\n",
    "path = 'logs.csv'\n",
    "days_file = open(path,'a+')\n",
    "logpd.to_csv(days_file,sep = ',')\n",
    "days_file.close()\n",
    "\n"
   ]
  },
  {
   "cell_type": "code",
   "execution_count": 0,
   "metadata": {
    "colab": {},
    "colab_type": "code",
    "id": "Df7ob5bbcC-9"
   },
   "outputs": [],
   "source": [
    "from google.colab import files\n",
    "files.download('logs.csv') "
   ]
  },
  {
   "cell_type": "code",
   "execution_count": 0,
   "metadata": {
    "colab": {},
    "colab_type": "code",
    "id": "72r5EMpJ_hN_"
   },
   "outputs": [],
   "source": []
  }
 ],
 "metadata": {
  "accelerator": "GPU",
  "colab": {
   "collapsed_sections": [],
   "name": "CIFAR-10 Inceptionv3.ipynb",
   "provenance": [],
   "version": "0.3.2"
  },
  "kernelspec": {
   "display_name": "Python 3",
   "language": "python",
   "name": "python3"
  },
  "language_info": {
   "codemirror_mode": {
    "name": "ipython",
    "version": 3
   },
   "file_extension": ".py",
   "mimetype": "text/x-python",
   "name": "python",
   "nbconvert_exporter": "python",
   "pygments_lexer": "ipython3",
   "version": "3.6.8"
  }
 },
 "nbformat": 4,
 "nbformat_minor": 1
}
